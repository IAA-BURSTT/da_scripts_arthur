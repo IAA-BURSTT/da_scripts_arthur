{
 "cells": [
  {
   "cell_type": "code",
   "execution_count": 1,
   "id": "c73be07b",
   "metadata": {},
   "outputs": [],
   "source": [
    "from solar_flux import SFP"
   ]
  },
  {
   "cell_type": "markdown",
   "id": "71d4c4e3",
   "metadata": {},
   "source": [
    "# Modes with [0,1,2,3] output\n",
    "## none: No rescale\n",
    "## xxxMHz: Scaling using xxxMHz data (Works with frequencies 410MHz - 2695MHz)"
   ]
  },
  {
   "cell_type": "code",
   "execution_count": 2,
   "id": "37fe183e",
   "metadata": {},
   "outputs": [],
   "source": [
    "date = \"230202\"\n",
    "length = 30"
   ]
  },
  {
   "cell_type": "code",
   "execution_count": 3,
   "id": "ba55b5de",
   "metadata": {},
   "outputs": [],
   "source": [
    "sf410, sf610, sf1415, sf2695 = SFP(date,length=length, mode=\"none\")"
   ]
  },
  {
   "cell_type": "code",
   "execution_count": 4,
   "id": "b78507f1",
   "metadata": {
    "scrolled": true
   },
   "outputs": [
    {
     "name": "stdout",
     "output_type": "stream",
     "text": [
      "490000.0 640000.0 960000.0 1320000.0\n"
     ]
    }
   ],
   "source": [
    "print(sf410, sf610, sf1415, sf2695)"
   ]
  },
  {
   "cell_type": "code",
   "execution_count": 5,
   "id": "132d1c51",
   "metadata": {},
   "outputs": [],
   "source": [
    "sf410_1, sf610_1, sf1415_1, sf2695_1 = SFP(date,length=length, mode=\"410MHz\")"
   ]
  },
  {
   "cell_type": "code",
   "execution_count": 6,
   "id": "4b7c98cd",
   "metadata": {},
   "outputs": [
    {
     "name": "stdout",
     "output_type": "stream",
     "text": [
      "513280.0 647512.0 1147163.0 1770864.0\n"
     ]
    }
   ],
   "source": [
    "print(sf410_1, sf610_1, sf1415_1, sf2695_1)"
   ]
  },
  {
   "cell_type": "code",
   "execution_count": 7,
   "id": "a9494859",
   "metadata": {},
   "outputs": [],
   "source": [
    "op0, op1, op2 = SFP(date,length)"
   ]
  },
  {
   "cell_type": "markdown",
   "id": "470c31ea",
   "metadata": {},
   "source": [
    "# Rescale Result Table"
   ]
  },
  {
   "cell_type": "code",
   "execution_count": 8,
   "id": "376fa540",
   "metadata": {},
   "outputs": [
    {
     "data": {
      "text/html": [
       "<div>\n",
       "<style scoped>\n",
       "    .dataframe tbody tr th:only-of-type {\n",
       "        vertical-align: middle;\n",
       "    }\n",
       "\n",
       "    .dataframe tbody tr th {\n",
       "        vertical-align: top;\n",
       "    }\n",
       "\n",
       "    .dataframe thead th {\n",
       "        text-align: right;\n",
       "    }\n",
       "</style>\n",
       "<table border=\"1\" class=\"dataframe\">\n",
       "  <thead>\n",
       "    <tr style=\"text-align: right;\">\n",
       "      <th></th>\n",
       "      <th>410MHz</th>\n",
       "      <th>610MHz</th>\n",
       "      <th>1415MHz</th>\n",
       "      <th>2695MHz</th>\n",
       "    </tr>\n",
       "  </thead>\n",
       "  <tbody>\n",
       "    <tr>\n",
       "      <th>230202</th>\n",
       "      <td>490000.0</td>\n",
       "      <td>640000.0</td>\n",
       "      <td>960000.0</td>\n",
       "      <td>1320000.0</td>\n",
       "    </tr>\n",
       "    <tr>\n",
       "      <th>from 410MHz</th>\n",
       "      <td>513280.0</td>\n",
       "      <td>647512.0</td>\n",
       "      <td>1147163.0</td>\n",
       "      <td>1770864.0</td>\n",
       "    </tr>\n",
       "    <tr>\n",
       "      <th>from 610MHz</th>\n",
       "      <td>522275.0</td>\n",
       "      <td>658860.0</td>\n",
       "      <td>1167268.0</td>\n",
       "      <td>1801900.0</td>\n",
       "    </tr>\n",
       "    <tr>\n",
       "      <th>from 1415MHz</th>\n",
       "      <td>480570.0</td>\n",
       "      <td>606247.0</td>\n",
       "      <td>1074057.0</td>\n",
       "      <td>1658011.0</td>\n",
       "    </tr>\n",
       "    <tr>\n",
       "      <th>from 2695MHz</th>\n",
       "      <td>453553.0</td>\n",
       "      <td>572165.0</td>\n",
       "      <td>1013675.0</td>\n",
       "      <td>1564800.0</td>\n",
       "    </tr>\n",
       "  </tbody>\n",
       "</table>\n",
       "</div>"
      ],
      "text/plain": [
       "                410MHz    610MHz    1415MHz    2695MHz\n",
       "230202        490000.0  640000.0   960000.0  1320000.0\n",
       "from 410MHz   513280.0  647512.0  1147163.0  1770864.0\n",
       "from 610MHz   522275.0  658860.0  1167268.0  1801900.0\n",
       "from 1415MHz  480570.0  606247.0  1074057.0  1658011.0\n",
       "from 2695MHz  453553.0  572165.0  1013675.0  1564800.0"
      ]
     },
     "execution_count": 8,
     "metadata": {},
     "output_type": "execute_result"
    }
   ],
   "source": [
    "op0"
   ]
  },
  {
   "cell_type": "markdown",
   "id": "e28edb96",
   "metadata": {},
   "source": [
    "# Rescale Error Stats (Same day and day before)"
   ]
  },
  {
   "cell_type": "code",
   "execution_count": 9,
   "id": "46343a4d",
   "metadata": {},
   "outputs": [
    {
     "data": {
      "text/html": [
       "<div>\n",
       "<style scoped>\n",
       "    .dataframe tbody tr th:only-of-type {\n",
       "        vertical-align: middle;\n",
       "    }\n",
       "\n",
       "    .dataframe tbody tr th {\n",
       "        vertical-align: top;\n",
       "    }\n",
       "\n",
       "    .dataframe thead th {\n",
       "        text-align: right;\n",
       "    }\n",
       "</style>\n",
       "<table border=\"1\" class=\"dataframe\">\n",
       "  <thead>\n",
       "    <tr style=\"text-align: right;\">\n",
       "      <th></th>\n",
       "      <th>410MHz d-1 error%</th>\n",
       "      <th>410MHz d error%</th>\n",
       "      <th>610MHz d-1 error%</th>\n",
       "      <th>610MHz d error%</th>\n",
       "      <th>1415MHz d-1 error%</th>\n",
       "      <th>1415MHz d error%</th>\n",
       "      <th>2695MHz d-1 error%</th>\n",
       "      <th>2695MHz d error%</th>\n",
       "    </tr>\n",
       "  </thead>\n",
       "  <tbody>\n",
       "    <tr>\n",
       "      <th>from 410MHz</th>\n",
       "      <td>3.70%</td>\n",
       "      <td>4.75%</td>\n",
       "      <td>2.20%</td>\n",
       "      <td>1.17%</td>\n",
       "      <td>20.71%</td>\n",
       "      <td>19.50%</td>\n",
       "      <td>35.52%</td>\n",
       "      <td>34.16%</td>\n",
       "    </tr>\n",
       "    <tr>\n",
       "      <th>from 610MHz</th>\n",
       "      <td>4.46%</td>\n",
       "      <td>6.59%</td>\n",
       "      <td>2.95%</td>\n",
       "      <td>2.95%</td>\n",
       "      <td>21.59%</td>\n",
       "      <td>21.59%</td>\n",
       "      <td>36.51%</td>\n",
       "      <td>36.51%</td>\n",
       "    </tr>\n",
       "    <tr>\n",
       "      <th>from 1415MHz</th>\n",
       "      <td>3.89%</td>\n",
       "      <td>1.92%</td>\n",
       "      <td>5.27%</td>\n",
       "      <td>5.27%</td>\n",
       "      <td>11.88%</td>\n",
       "      <td>11.88%</td>\n",
       "      <td>25.61%</td>\n",
       "      <td>25.61%</td>\n",
       "    </tr>\n",
       "    <tr>\n",
       "      <th>from 2695MHz</th>\n",
       "      <td>9.29%</td>\n",
       "      <td>7.44%</td>\n",
       "      <td>10.60%</td>\n",
       "      <td>10.60%</td>\n",
       "      <td>5.59%</td>\n",
       "      <td>5.59%</td>\n",
       "      <td>18.55%</td>\n",
       "      <td>18.55%</td>\n",
       "    </tr>\n",
       "  </tbody>\n",
       "</table>\n",
       "</div>"
      ],
      "text/plain": [
       "             410MHz d-1 error% 410MHz d error% 610MHz d-1 error%  \\\n",
       "from 410MHz              3.70%           4.75%             2.20%   \n",
       "from 610MHz              4.46%           6.59%             2.95%   \n",
       "from 1415MHz             3.89%           1.92%             5.27%   \n",
       "from 2695MHz             9.29%           7.44%            10.60%   \n",
       "\n",
       "             610MHz d error% 1415MHz d-1 error% 1415MHz d error%  \\\n",
       "from 410MHz            1.17%             20.71%           19.50%   \n",
       "from 610MHz            2.95%             21.59%           21.59%   \n",
       "from 1415MHz           5.27%             11.88%           11.88%   \n",
       "from 2695MHz          10.60%              5.59%            5.59%   \n",
       "\n",
       "             2695MHz d-1 error% 2695MHz d error%  \n",
       "from 410MHz              35.52%           34.16%  \n",
       "from 610MHz              36.51%           36.51%  \n",
       "from 1415MHz             25.61%           25.61%  \n",
       "from 2695MHz             18.55%           18.55%  "
      ]
     },
     "execution_count": 9,
     "metadata": {},
     "output_type": "execute_result"
    }
   ],
   "source": [
    "op1"
   ]
  },
  {
   "cell_type": "markdown",
   "id": "40d3751c",
   "metadata": {},
   "source": [
    "# 30 Day Rescale Error% Mean and STD"
   ]
  },
  {
   "cell_type": "code",
   "execution_count": 10,
   "id": "758497d1",
   "metadata": {},
   "outputs": [
    {
     "data": {
      "text/html": [
       "<div>\n",
       "<style scoped>\n",
       "    .dataframe tbody tr th:only-of-type {\n",
       "        vertical-align: middle;\n",
       "    }\n",
       "\n",
       "    .dataframe tbody tr th {\n",
       "        vertical-align: top;\n",
       "    }\n",
       "\n",
       "    .dataframe thead th {\n",
       "        text-align: right;\n",
       "    }\n",
       "</style>\n",
       "<table border=\"1\" class=\"dataframe\">\n",
       "  <thead>\n",
       "    <tr style=\"text-align: right;\">\n",
       "      <th></th>\n",
       "      <th>410MHz Error% Mean</th>\n",
       "      <th>410MHz Error% STD</th>\n",
       "      <th>610MHz Error% Mean</th>\n",
       "      <th>610MHz Error% STD</th>\n",
       "      <th>1415MHz Error% Mean</th>\n",
       "      <th>1415MHz Error% STD</th>\n",
       "      <th>2695MHz Error% Mean</th>\n",
       "      <th>2695MHz Error% STD</th>\n",
       "    </tr>\n",
       "  </thead>\n",
       "  <tbody>\n",
       "    <tr>\n",
       "      <th>from 410MHz</th>\n",
       "      <td>5.53%</td>\n",
       "      <td>3.23%</td>\n",
       "      <td>3.35%</td>\n",
       "      <td>1.79%</td>\n",
       "      <td>9.62%</td>\n",
       "      <td>6.49%</td>\n",
       "      <td>14.46%</td>\n",
       "      <td>9.98%</td>\n",
       "    </tr>\n",
       "    <tr>\n",
       "      <th>from 610MHz</th>\n",
       "      <td>9.00%</td>\n",
       "      <td>5.10%</td>\n",
       "      <td>2.85%</td>\n",
       "      <td>1.78%</td>\n",
       "      <td>11.01%</td>\n",
       "      <td>7.25%</td>\n",
       "      <td>15.80%</td>\n",
       "      <td>10.81%</td>\n",
       "    </tr>\n",
       "    <tr>\n",
       "      <th>from 1415MHz</th>\n",
       "      <td>6.96%</td>\n",
       "      <td>3.80%</td>\n",
       "      <td>2.20%</td>\n",
       "      <td>1.79%</td>\n",
       "      <td>6.84%</td>\n",
       "      <td>4.19%</td>\n",
       "      <td>11.56%</td>\n",
       "      <td>7.31%</td>\n",
       "    </tr>\n",
       "    <tr>\n",
       "      <th>from 2695MHz</th>\n",
       "      <td>7.56%</td>\n",
       "      <td>3.74%</td>\n",
       "      <td>3.65%</td>\n",
       "      <td>3.15%</td>\n",
       "      <td>5.03%</td>\n",
       "      <td>2.82%</td>\n",
       "      <td>9.16%</td>\n",
       "      <td>5.57%</td>\n",
       "    </tr>\n",
       "  </tbody>\n",
       "</table>\n",
       "</div>"
      ],
      "text/plain": [
       "             410MHz Error% Mean 410MHz Error% STD 610MHz Error% Mean  \\\n",
       "from 410MHz               5.53%             3.23%              3.35%   \n",
       "from 610MHz               9.00%             5.10%              2.85%   \n",
       "from 1415MHz              6.96%             3.80%              2.20%   \n",
       "from 2695MHz              7.56%             3.74%              3.65%   \n",
       "\n",
       "             610MHz Error% STD 1415MHz Error% Mean 1415MHz Error% STD  \\\n",
       "from 410MHz              1.79%               9.62%              6.49%   \n",
       "from 610MHz              1.78%              11.01%              7.25%   \n",
       "from 1415MHz             1.79%               6.84%              4.19%   \n",
       "from 2695MHz             3.15%               5.03%              2.82%   \n",
       "\n",
       "             2695MHz Error% Mean 2695MHz Error% STD  \n",
       "from 410MHz               14.46%              9.98%  \n",
       "from 610MHz               15.80%             10.81%  \n",
       "from 1415MHz              11.56%              7.31%  \n",
       "from 2695MHz               9.16%              5.57%  "
      ]
     },
     "execution_count": 10,
     "metadata": {},
     "output_type": "execute_result"
    }
   ],
   "source": [
    "op2"
   ]
  },
  {
   "cell_type": "code",
   "execution_count": null,
   "id": "bf3e400b",
   "metadata": {},
   "outputs": [],
   "source": []
  }
 ],
 "metadata": {
  "kernelspec": {
   "display_name": "Python 3 (ipykernel)",
   "language": "python",
   "name": "python3"
  },
  "language_info": {
   "codemirror_mode": {
    "name": "ipython",
    "version": 3
   },
   "file_extension": ".py",
   "mimetype": "text/x-python",
   "name": "python",
   "nbconvert_exporter": "python",
   "pygments_lexer": "ipython3",
   "version": "3.11.5"
  }
 },
 "nbformat": 4,
 "nbformat_minor": 5
}
